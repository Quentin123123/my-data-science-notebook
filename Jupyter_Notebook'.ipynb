{
  "metadata": {
    "kernelspec": {
      "name": "python",
      "display_name": "Python (Pyodide)",
      "language": "python"
    },
    "language_info": {
      "codemirror_mode": {
        "name": "python",
        "version": 3
      },
      "file_extension": ".py",
      "mimetype": "text/x-python",
      "name": "python",
      "nbconvert_exporter": "python",
      "pygments_lexer": "ipython3",
      "version": "3.8"
    }
  },
  "nbformat_minor": 4,
  "nbformat": 4,
  "cells": [
    {
      "cell_type": "markdown",
      "source": "<center>\n    <img src=\"https://cf-courses-data.s3.us.cloud-object-storage.appdomain.cloud/IBMDeveloperSkillsNetwork-DS0105EN-SkillsNetwork/labs/Module2/images/SN_web_lightmode.png\" width=\"300\" alt=\"cognitiveclass.ai logo\">\n</center>\n",
      "metadata": {}
    },
    {
      "cell_type": "markdown",
      "source": "#### Add your code below following the instructions given in the course\n",
      "metadata": {}
    },
    {
      "cell_type": "markdown",
      "source": "# Data Science Tools and Ecosystem",
      "metadata": {}
    },
    {
      "cell_type": "markdown",
      "source": "## Introduction\nThis notebook explores various aspects of data science and its tools.",
      "metadata": {}
    },
    {
      "cell_type": "markdown",
      "source": "## Data Science Languages\n- Python\n- R\n- SQL\n- Scala\n- Julia",
      "metadata": {}
    },
    {
      "cell_type": "markdown",
      "source": "## Data Science Libraries\n- Python\n  - Pandas\n  - NumPy\n  - Scikit-learn\n  - TensorFlow\n- R\n  - ggplot2\n  - dplyr\n  - caret",
      "metadata": {}
    },
    {
      "cell_type": "markdown",
      "source": "## Data Science Tools\n\n| Tool         | Description                                |\n|--------------|--------------------------------------------|\n| Jupyter      | Interface for writing and running code     |\n| GitHub        | Platform for version control and collaboration |\n| Apache Spark | Distributed processing of large data sets  |\n| Tableau      | Data visualization                          |",
      "metadata": {}
    },
    {
      "cell_type": "markdown",
      "source": "## Examples of Arithmetic Expressions\n- Addition: `5 + 3`\n- Subtraction: `10 - 4`\n- Multiplication: `7 * 6`\n- Division: `20 / 5`",
      "metadata": {}
    },
    {
      "cell_type": "code",
      "source": "# Multiplication and Addition\na = 5\nb = 3\nmultiplication = a * b\naddition = a + b\n\nmultiplication, addition",
      "metadata": {
        "trusted": true
      },
      "outputs": [
        {
          "execution_count": 2,
          "output_type": "execute_result",
          "data": {
            "text/plain": "(15, 8)"
          },
          "metadata": {}
        }
      ],
      "execution_count": 2
    },
    {
      "cell_type": "code",
      "source": "# Convert Minutes to Hours\ndef minutes_to_hours(minutes):\n    return minutes / 60\n\nminutes = 120\nhours = minutes_to_hours(minutes)\n\nhours",
      "metadata": {
        "trusted": true
      },
      "outputs": [
        {
          "execution_count": 3,
          "output_type": "execute_result",
          "data": {
            "text/plain": "2.0"
          },
          "metadata": {}
        }
      ],
      "execution_count": 3
    },
    {
      "cell_type": "markdown",
      "source": "## Objectives\n- Understand the basic concepts of data science.\n- Learn to use libraries for data analysis.\n- Practice using Jupyter Notebook for data analysis.",
      "metadata": {}
    },
    {
      "cell_type": "markdown",
      "source": "## Author\n**Quentin Kere**",
      "metadata": {}
    },
    {
      "cell_type": "code",
      "source": "",
      "metadata": {
        "trusted": true
      },
      "outputs": [],
      "execution_count": null
    }
  ]
}